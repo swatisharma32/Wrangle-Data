{
 "cells": [
  {
   "cell_type": "code",
   "execution_count": 158,
   "metadata": {},
   "outputs": [
    {
     "name": "stdout",
     "output_type": "stream",
     "text": [
      "<class 'pandas.core.frame.DataFrame'>\n",
      "RangeIndex: 10866 entries, 0 to 10865\n",
      "Data columns (total 21 columns):\n",
      "id                      10866 non-null int64\n",
      "imdb_id                 10856 non-null object\n",
      "popularity              10866 non-null float64\n",
      "budget                  10866 non-null int64\n",
      "revenue                 10866 non-null int64\n",
      "original_title          10866 non-null object\n",
      "cast                    10790 non-null object\n",
      "homepage                2936 non-null object\n",
      "director                10822 non-null object\n",
      "tagline                 8042 non-null object\n",
      "keywords                9373 non-null object\n",
      "overview                10862 non-null object\n",
      "runtime                 10866 non-null int64\n",
      "genres                  10843 non-null object\n",
      "production_companies    9836 non-null object\n",
      "release_date            10866 non-null object\n",
      "vote_count              10866 non-null int64\n",
      "vote_average            10866 non-null float64\n",
      "release_year            10866 non-null int64\n",
      "budget_adj              10866 non-null float64\n",
      "revenue_adj             10866 non-null float64\n",
      "dtypes: float64(4), int64(6), object(11)\n",
      "memory usage: 1.7+ MB\n"
     ]
    },
    {
     "data": {
      "text/html": [
       "<div>\n",
       "<style scoped>\n",
       "    .dataframe tbody tr th:only-of-type {\n",
       "        vertical-align: middle;\n",
       "    }\n",
       "\n",
       "    .dataframe tbody tr th {\n",
       "        vertical-align: top;\n",
       "    }\n",
       "\n",
       "    .dataframe thead th {\n",
       "        text-align: right;\n",
       "    }\n",
       "</style>\n",
       "<table border=\"1\" class=\"dataframe\">\n",
       "  <thead>\n",
       "    <tr style=\"text-align: right;\">\n",
       "      <th></th>\n",
       "      <th>id</th>\n",
       "      <th>imdb_id</th>\n",
       "      <th>popularity</th>\n",
       "      <th>budget</th>\n",
       "      <th>revenue</th>\n",
       "      <th>original_title</th>\n",
       "      <th>cast</th>\n",
       "      <th>homepage</th>\n",
       "      <th>director</th>\n",
       "      <th>tagline</th>\n",
       "      <th>...</th>\n",
       "      <th>overview</th>\n",
       "      <th>runtime</th>\n",
       "      <th>genres</th>\n",
       "      <th>production_companies</th>\n",
       "      <th>release_date</th>\n",
       "      <th>vote_count</th>\n",
       "      <th>vote_average</th>\n",
       "      <th>release_year</th>\n",
       "      <th>budget_adj</th>\n",
       "      <th>revenue_adj</th>\n",
       "    </tr>\n",
       "  </thead>\n",
       "  <tbody>\n",
       "    <tr>\n",
       "      <th>0</th>\n",
       "      <td>135397</td>\n",
       "      <td>tt0369610</td>\n",
       "      <td>32.985763</td>\n",
       "      <td>150000000</td>\n",
       "      <td>1513528810</td>\n",
       "      <td>Jurassic World</td>\n",
       "      <td>Chris Pratt|Bryce Dallas Howard|Irrfan Khan|Vi...</td>\n",
       "      <td>http://www.jurassicworld.com/</td>\n",
       "      <td>Colin Trevorrow</td>\n",
       "      <td>The park is open.</td>\n",
       "      <td>...</td>\n",
       "      <td>Twenty-two years after the events of Jurassic ...</td>\n",
       "      <td>124</td>\n",
       "      <td>Action|Adventure|Science Fiction|Thriller</td>\n",
       "      <td>Universal Studios|Amblin Entertainment|Legenda...</td>\n",
       "      <td>6/9/15</td>\n",
       "      <td>5562</td>\n",
       "      <td>6.5</td>\n",
       "      <td>2015</td>\n",
       "      <td>1.379999e+08</td>\n",
       "      <td>1.392446e+09</td>\n",
       "    </tr>\n",
       "    <tr>\n",
       "      <th>1</th>\n",
       "      <td>76341</td>\n",
       "      <td>tt1392190</td>\n",
       "      <td>28.419936</td>\n",
       "      <td>150000000</td>\n",
       "      <td>378436354</td>\n",
       "      <td>Mad Max: Fury Road</td>\n",
       "      <td>Tom Hardy|Charlize Theron|Hugh Keays-Byrne|Nic...</td>\n",
       "      <td>http://www.madmaxmovie.com/</td>\n",
       "      <td>George Miller</td>\n",
       "      <td>What a Lovely Day.</td>\n",
       "      <td>...</td>\n",
       "      <td>An apocalyptic story set in the furthest reach...</td>\n",
       "      <td>120</td>\n",
       "      <td>Action|Adventure|Science Fiction|Thriller</td>\n",
       "      <td>Village Roadshow Pictures|Kennedy Miller Produ...</td>\n",
       "      <td>5/13/15</td>\n",
       "      <td>6185</td>\n",
       "      <td>7.1</td>\n",
       "      <td>2015</td>\n",
       "      <td>1.379999e+08</td>\n",
       "      <td>3.481613e+08</td>\n",
       "    </tr>\n",
       "    <tr>\n",
       "      <th>2</th>\n",
       "      <td>262500</td>\n",
       "      <td>tt2908446</td>\n",
       "      <td>13.112507</td>\n",
       "      <td>110000000</td>\n",
       "      <td>295238201</td>\n",
       "      <td>Insurgent</td>\n",
       "      <td>Shailene Woodley|Theo James|Kate Winslet|Ansel...</td>\n",
       "      <td>http://www.thedivergentseries.movie/#insurgent</td>\n",
       "      <td>Robert Schwentke</td>\n",
       "      <td>One Choice Can Destroy You</td>\n",
       "      <td>...</td>\n",
       "      <td>Beatrice Prior must confront her inner demons ...</td>\n",
       "      <td>119</td>\n",
       "      <td>Adventure|Science Fiction|Thriller</td>\n",
       "      <td>Summit Entertainment|Mandeville Films|Red Wago...</td>\n",
       "      <td>3/18/15</td>\n",
       "      <td>2480</td>\n",
       "      <td>6.3</td>\n",
       "      <td>2015</td>\n",
       "      <td>1.012000e+08</td>\n",
       "      <td>2.716190e+08</td>\n",
       "    </tr>\n",
       "    <tr>\n",
       "      <th>3</th>\n",
       "      <td>140607</td>\n",
       "      <td>tt2488496</td>\n",
       "      <td>11.173104</td>\n",
       "      <td>200000000</td>\n",
       "      <td>2068178225</td>\n",
       "      <td>Star Wars: The Force Awakens</td>\n",
       "      <td>Harrison Ford|Mark Hamill|Carrie Fisher|Adam D...</td>\n",
       "      <td>http://www.starwars.com/films/star-wars-episod...</td>\n",
       "      <td>J.J. Abrams</td>\n",
       "      <td>Every generation has a story.</td>\n",
       "      <td>...</td>\n",
       "      <td>Thirty years after defeating the Galactic Empi...</td>\n",
       "      <td>136</td>\n",
       "      <td>Action|Adventure|Science Fiction|Fantasy</td>\n",
       "      <td>Lucasfilm|Truenorth Productions|Bad Robot</td>\n",
       "      <td>12/15/15</td>\n",
       "      <td>5292</td>\n",
       "      <td>7.5</td>\n",
       "      <td>2015</td>\n",
       "      <td>1.839999e+08</td>\n",
       "      <td>1.902723e+09</td>\n",
       "    </tr>\n",
       "    <tr>\n",
       "      <th>4</th>\n",
       "      <td>168259</td>\n",
       "      <td>tt2820852</td>\n",
       "      <td>9.335014</td>\n",
       "      <td>190000000</td>\n",
       "      <td>1506249360</td>\n",
       "      <td>Furious 7</td>\n",
       "      <td>Vin Diesel|Paul Walker|Jason Statham|Michelle ...</td>\n",
       "      <td>http://www.furious7.com/</td>\n",
       "      <td>James Wan</td>\n",
       "      <td>Vengeance Hits Home</td>\n",
       "      <td>...</td>\n",
       "      <td>Deckard Shaw seeks revenge against Dominic Tor...</td>\n",
       "      <td>137</td>\n",
       "      <td>Action|Crime|Thriller</td>\n",
       "      <td>Universal Pictures|Original Film|Media Rights ...</td>\n",
       "      <td>4/1/15</td>\n",
       "      <td>2947</td>\n",
       "      <td>7.3</td>\n",
       "      <td>2015</td>\n",
       "      <td>1.747999e+08</td>\n",
       "      <td>1.385749e+09</td>\n",
       "    </tr>\n",
       "  </tbody>\n",
       "</table>\n",
       "<p>5 rows × 21 columns</p>\n",
       "</div>"
      ],
      "text/plain": [
       "       id    imdb_id  popularity     budget     revenue  \\\n",
       "0  135397  tt0369610   32.985763  150000000  1513528810   \n",
       "1   76341  tt1392190   28.419936  150000000   378436354   \n",
       "2  262500  tt2908446   13.112507  110000000   295238201   \n",
       "3  140607  tt2488496   11.173104  200000000  2068178225   \n",
       "4  168259  tt2820852    9.335014  190000000  1506249360   \n",
       "\n",
       "                 original_title  \\\n",
       "0                Jurassic World   \n",
       "1            Mad Max: Fury Road   \n",
       "2                     Insurgent   \n",
       "3  Star Wars: The Force Awakens   \n",
       "4                     Furious 7   \n",
       "\n",
       "                                                cast  \\\n",
       "0  Chris Pratt|Bryce Dallas Howard|Irrfan Khan|Vi...   \n",
       "1  Tom Hardy|Charlize Theron|Hugh Keays-Byrne|Nic...   \n",
       "2  Shailene Woodley|Theo James|Kate Winslet|Ansel...   \n",
       "3  Harrison Ford|Mark Hamill|Carrie Fisher|Adam D...   \n",
       "4  Vin Diesel|Paul Walker|Jason Statham|Michelle ...   \n",
       "\n",
       "                                            homepage          director  \\\n",
       "0                      http://www.jurassicworld.com/   Colin Trevorrow   \n",
       "1                        http://www.madmaxmovie.com/     George Miller   \n",
       "2     http://www.thedivergentseries.movie/#insurgent  Robert Schwentke   \n",
       "3  http://www.starwars.com/films/star-wars-episod...       J.J. Abrams   \n",
       "4                           http://www.furious7.com/         James Wan   \n",
       "\n",
       "                         tagline      ...       \\\n",
       "0              The park is open.      ...        \n",
       "1             What a Lovely Day.      ...        \n",
       "2     One Choice Can Destroy You      ...        \n",
       "3  Every generation has a story.      ...        \n",
       "4            Vengeance Hits Home      ...        \n",
       "\n",
       "                                            overview runtime  \\\n",
       "0  Twenty-two years after the events of Jurassic ...     124   \n",
       "1  An apocalyptic story set in the furthest reach...     120   \n",
       "2  Beatrice Prior must confront her inner demons ...     119   \n",
       "3  Thirty years after defeating the Galactic Empi...     136   \n",
       "4  Deckard Shaw seeks revenge against Dominic Tor...     137   \n",
       "\n",
       "                                      genres  \\\n",
       "0  Action|Adventure|Science Fiction|Thriller   \n",
       "1  Action|Adventure|Science Fiction|Thriller   \n",
       "2         Adventure|Science Fiction|Thriller   \n",
       "3   Action|Adventure|Science Fiction|Fantasy   \n",
       "4                      Action|Crime|Thriller   \n",
       "\n",
       "                                production_companies release_date vote_count  \\\n",
       "0  Universal Studios|Amblin Entertainment|Legenda...       6/9/15       5562   \n",
       "1  Village Roadshow Pictures|Kennedy Miller Produ...      5/13/15       6185   \n",
       "2  Summit Entertainment|Mandeville Films|Red Wago...      3/18/15       2480   \n",
       "3          Lucasfilm|Truenorth Productions|Bad Robot     12/15/15       5292   \n",
       "4  Universal Pictures|Original Film|Media Rights ...       4/1/15       2947   \n",
       "\n",
       "   vote_average  release_year    budget_adj   revenue_adj  \n",
       "0           6.5          2015  1.379999e+08  1.392446e+09  \n",
       "1           7.1          2015  1.379999e+08  3.481613e+08  \n",
       "2           6.3          2015  1.012000e+08  2.716190e+08  \n",
       "3           7.5          2015  1.839999e+08  1.902723e+09  \n",
       "4           7.3          2015  1.747999e+08  1.385749e+09  \n",
       "\n",
       "[5 rows x 21 columns]"
      ]
     },
     "execution_count": 158,
     "metadata": {},
     "output_type": "execute_result"
    }
   ],
   "source": [
    "import os\n",
    "os.getcwd() \n",
    "import numpy as np\n",
    "import pandas as pd\n",
    "import seaborn as sns\n",
    "import matplotlib.pyplot as plt\n",
    "% matplotlib inline\n",
    "\n",
    "os.chdir('C:\\\\Users\\\\sharmsw7\\\\Udacity') \n",
    "\n",
    "df= pd.read_csv('tmdb-movies.csv')\n",
    "df.info()\n",
    "df.head()\n"
   ]
  },
  {
   "cell_type": "code",
   "execution_count": 159,
   "metadata": {},
   "outputs": [
    {
     "name": "stdout",
     "output_type": "stream",
     "text": [
      "<class 'pandas.core.frame.DataFrame'>\n",
      "Int64Index: 10731 entries, 0 to 10865\n",
      "Data columns (total 21 columns):\n",
      "id                      10731 non-null int64\n",
      "imdb_id                 10726 non-null object\n",
      "popularity              10731 non-null float64\n",
      "budget                  10731 non-null int64\n",
      "revenue                 10731 non-null int64\n",
      "original_title          10731 non-null object\n",
      "cast                    10731 non-null object\n",
      "homepage                2893 non-null object\n",
      "director                10731 non-null object\n",
      "tagline                 8001 non-null object\n",
      "keywords                9306 non-null object\n",
      "overview                10729 non-null object\n",
      "runtime                 10731 non-null int64\n",
      "genres                  10731 non-null object\n",
      "production_companies    9772 non-null object\n",
      "release_date            10731 non-null object\n",
      "vote_count              10731 non-null int64\n",
      "vote_average            10731 non-null float64\n",
      "release_year            10731 non-null int64\n",
      "budget_adj              10731 non-null float64\n",
      "revenue_adj             10731 non-null float64\n",
      "dtypes: float64(4), int64(6), object(11)\n",
      "memory usage: 1.8+ MB\n"
     ]
    },
    {
     "data": {
      "image/png": "[encoded data removed]",
      "text/plain": [
       "<Figure size 576x576 with 12 Axes>"
      ]
     },
     "metadata": {},
     "output_type": "display_data"
    }
   ],
   "source": [
    "df.hist(figsize=(8,8))\n",
    "#The dataset contain lots of movies where the budget or revenue have a value of '0'.\n",
    "#drop duplicates\n",
    "df.drop_duplicates(inplace=True)\n",
    "#drop Null Values\n",
    "Cols= ['cast','director','genres']\n",
    "df.dropna(subset=Cols,how='any',inplace=True)\n",
    "df.info()"
   ]
  },
  {
   "cell_type": "code",
   "execution_count": 160,
   "metadata": {},
   "outputs": [
    {
     "name": "stdout",
     "output_type": "stream",
     "text": [
      "32.985763\n"
     ]
    }
   ],
   "source": [
    "max_popularity=df.popularity.max()\n",
    "print(max_popularity)  \n"
   ]
  },
  {
   "cell_type": "code",
   "execution_count": 161,
   "metadata": {},
   "outputs": [
    {
     "data": {
      "text/html": [
       "<div>\n",
       "<style scoped>\n",
       "    .dataframe tbody tr th:only-of-type {\n",
       "        vertical-align: middle;\n",
       "    }\n",
       "\n",
       "    .dataframe tbody tr th {\n",
       "        vertical-align: top;\n",
       "    }\n",
       "\n",
       "    .dataframe thead th {\n",
       "        text-align: right;\n",
       "    }\n",
       "</style>\n",
       "<table border=\"1\" class=\"dataframe\">\n",
       "  <thead>\n",
       "    <tr style=\"text-align: right;\">\n",
       "      <th></th>\n",
       "      <th>id</th>\n",
       "      <th>popularity</th>\n",
       "      <th>budget</th>\n",
       "      <th>revenue</th>\n",
       "      <th>runtime</th>\n",
       "      <th>vote_count</th>\n",
       "      <th>vote_average</th>\n",
       "      <th>release_year</th>\n",
       "      <th>budget_adj</th>\n",
       "      <th>revenue_adj</th>\n",
       "    </tr>\n",
       "  </thead>\n",
       "  <tbody>\n",
       "    <tr>\n",
       "      <th>count</th>\n",
       "      <td>10731.000000</td>\n",
       "      <td>10731.000000</td>\n",
       "      <td>1.073100e+04</td>\n",
       "      <td>1.073100e+04</td>\n",
       "      <td>10731.000000</td>\n",
       "      <td>10731.000000</td>\n",
       "      <td>10731.000000</td>\n",
       "      <td>10731.000000</td>\n",
       "      <td>1.073100e+04</td>\n",
       "      <td>1.073100e+04</td>\n",
       "    </tr>\n",
       "    <tr>\n",
       "      <th>mean</th>\n",
       "      <td>65201.741869</td>\n",
       "      <td>0.652615</td>\n",
       "      <td>1.480365e+07</td>\n",
       "      <td>4.031989e+07</td>\n",
       "      <td>102.468829</td>\n",
       "      <td>219.812972</td>\n",
       "      <td>5.964710</td>\n",
       "      <td>2001.259622</td>\n",
       "      <td>1.776530e+07</td>\n",
       "      <td>5.200623e+07</td>\n",
       "    </tr>\n",
       "    <tr>\n",
       "      <th>std</th>\n",
       "      <td>91470.508056</td>\n",
       "      <td>1.004804</td>\n",
       "      <td>3.106456e+07</td>\n",
       "      <td>1.176524e+08</td>\n",
       "      <td>30.493873</td>\n",
       "      <td>578.815324</td>\n",
       "      <td>0.930283</td>\n",
       "      <td>12.820151</td>\n",
       "      <td>3.446630e+07</td>\n",
       "      <td>1.454252e+08</td>\n",
       "    </tr>\n",
       "    <tr>\n",
       "      <th>min</th>\n",
       "      <td>5.000000</td>\n",
       "      <td>0.000188</td>\n",
       "      <td>0.000000e+00</td>\n",
       "      <td>0.000000e+00</td>\n",
       "      <td>0.000000</td>\n",
       "      <td>10.000000</td>\n",
       "      <td>1.500000</td>\n",
       "      <td>1960.000000</td>\n",
       "      <td>0.000000e+00</td>\n",
       "      <td>0.000000e+00</td>\n",
       "    </tr>\n",
       "    <tr>\n",
       "      <th>25%</th>\n",
       "      <td>10547.500000</td>\n",
       "      <td>0.210765</td>\n",
       "      <td>0.000000e+00</td>\n",
       "      <td>0.000000e+00</td>\n",
       "      <td>90.000000</td>\n",
       "      <td>17.000000</td>\n",
       "      <td>5.400000</td>\n",
       "      <td>1995.000000</td>\n",
       "      <td>0.000000e+00</td>\n",
       "      <td>0.000000e+00</td>\n",
       "    </tr>\n",
       "    <tr>\n",
       "      <th>50%</th>\n",
       "      <td>20323.000000</td>\n",
       "      <td>0.387081</td>\n",
       "      <td>0.000000e+00</td>\n",
       "      <td>0.000000e+00</td>\n",
       "      <td>99.000000</td>\n",
       "      <td>39.000000</td>\n",
       "      <td>6.000000</td>\n",
       "      <td>2006.000000</td>\n",
       "      <td>0.000000e+00</td>\n",
       "      <td>0.000000e+00</td>\n",
       "    </tr>\n",
       "    <tr>\n",
       "      <th>75%</th>\n",
       "      <td>73948.500000</td>\n",
       "      <td>0.720889</td>\n",
       "      <td>1.600000e+07</td>\n",
       "      <td>2.500000e+07</td>\n",
       "      <td>112.000000</td>\n",
       "      <td>148.000000</td>\n",
       "      <td>6.600000</td>\n",
       "      <td>2011.000000</td>\n",
       "      <td>2.110885e+07</td>\n",
       "      <td>3.470546e+07</td>\n",
       "    </tr>\n",
       "    <tr>\n",
       "      <th>max</th>\n",
       "      <td>417859.000000</td>\n",
       "      <td>32.985763</td>\n",
       "      <td>4.250000e+08</td>\n",
       "      <td>2.781506e+09</td>\n",
       "      <td>900.000000</td>\n",
       "      <td>9767.000000</td>\n",
       "      <td>9.200000</td>\n",
       "      <td>2015.000000</td>\n",
       "      <td>4.250000e+08</td>\n",
       "      <td>2.827124e+09</td>\n",
       "    </tr>\n",
       "  </tbody>\n",
       "</table>\n",
       "</div>"
      ],
      "text/plain": [
       "                  id    popularity        budget       revenue       runtime  \\\n",
       "count   10731.000000  10731.000000  1.073100e+04  1.073100e+04  10731.000000   \n",
       "mean    65201.741869      0.652615  1.480365e+07  4.031989e+07    102.468829   \n",
       "std     91470.508056      1.004804  3.106456e+07  1.176524e+08     30.493873   \n",
       "min         5.000000      0.000188  0.000000e+00  0.000000e+00      0.000000   \n",
       "25%     10547.500000      0.210765  0.000000e+00  0.000000e+00     90.000000   \n",
       "50%     20323.000000      0.387081  0.000000e+00  0.000000e+00     99.000000   \n",
       "75%     73948.500000      0.720889  1.600000e+07  2.500000e+07    112.000000   \n",
       "max    417859.000000     32.985763  4.250000e+08  2.781506e+09    900.000000   \n",
       "\n",
       "         vote_count  vote_average  release_year    budget_adj   revenue_adj  \n",
       "count  10731.000000  10731.000000  10731.000000  1.073100e+04  1.073100e+04  \n",
       "mean     219.812972      5.964710   2001.259622  1.776530e+07  5.200623e+07  \n",
       "std      578.815324      0.930283     12.820151  3.446630e+07  1.454252e+08  \n",
       "min       10.000000      1.500000   1960.000000  0.000000e+00  0.000000e+00  \n",
       "25%       17.000000      5.400000   1995.000000  0.000000e+00  0.000000e+00  \n",
       "50%       39.000000      6.000000   2006.000000  0.000000e+00  0.000000e+00  \n",
       "75%      148.000000      6.600000   2011.000000  2.110885e+07  3.470546e+07  \n",
       "max     9767.000000      9.200000   2015.000000  4.250000e+08  2.827124e+09  "
      ]
     },
     "execution_count": 161,
     "metadata": {},
     "output_type": "execute_result"
    }
   ],
   "source": [
    "df.describe()\n"
   ]
  },
  {
   "cell_type": "code",
   "execution_count": 162,
   "metadata": {},
   "outputs": [
    {
     "data": {
      "text/plain": [
       "budget\n",
       "0    5578\n",
       "1       4\n",
       "2       1\n",
       "3       3\n",
       "5       1\n",
       "Name: id, dtype: int64"
      ]
     },
     "execution_count": 162,
     "metadata": {},
     "output_type": "execute_result"
    }
   ],
   "source": [
    "df_budget_zero=df.query('budget==0')\n",
    "df_budget_0_count=df.groupby('budget').count()['id']\n",
    "df_budget_0_count.head()\n"
   ]
  },
  {
   "cell_type": "code",
   "execution_count": 163,
   "metadata": {},
   "outputs": [
    {
     "data": {
      "text/plain": [
       "revenue\n",
       "0    5888\n",
       "2       2\n",
       "3       3\n",
       "5       2\n",
       "6       2\n",
       "Name: id, dtype: int64"
      ]
     },
     "execution_count": 163,
     "metadata": {},
     "output_type": "execute_result"
    }
   ],
   "source": [
    "df_revenue_zero=df.query('revenue==0')\n",
    "df_revenue_0_count=df.groupby('revenue').count()['id']\n",
    "df_revenue_0_count.head()"
   ]
  },
  {
   "cell_type": "code",
   "execution_count": 165,
   "metadata": {
    "scrolled": true
   },
   "outputs": [
    {
     "name": "stdout",
     "output_type": "stream",
     "text": [
      "2014    682\n",
      "2013    649\n",
      "2015    617\n",
      "2012    574\n",
      "2011    532\n",
      "2009    525\n",
      "2008    486\n",
      "2010    475\n",
      "2007    432\n",
      "2006    404\n",
      "2005    361\n",
      "2004    307\n",
      "2003    281\n",
      "2002    264\n",
      "2001    241\n",
      "2000    224\n",
      "1999    224\n",
      "1998    210\n",
      "1996    203\n",
      "1997    191\n",
      "1994    184\n",
      "1993    177\n",
      "1995    174\n",
      "1988    142\n",
      "1989    135\n",
      "1991    133\n",
      "1992    132\n",
      "1990    132\n",
      "1987    124\n",
      "1986    120\n",
      "1985    108\n",
      "1984    104\n",
      "1981     82\n",
      "1982     81\n",
      "1983     80\n",
      "1980     78\n",
      "1978     65\n",
      "1979     57\n",
      "1977     56\n",
      "1971     55\n",
      "1973     55\n",
      "1976     47\n",
      "1974     46\n",
      "1966     46\n",
      "1975     44\n",
      "1964     42\n",
      "1970     40\n",
      "1972     40\n",
      "1967     38\n",
      "1968     38\n",
      "1965     35\n",
      "1963     34\n",
      "1962     32\n",
      "1960     32\n",
      "1961     31\n",
      "1969     30\n",
      "Name: release_year, dtype: int64\n"
     ]
    },
    {
     "data": {
      "image/png": "[encoded data removed]",
      "text/plain": [
       "<Figure size 720x360 with 1 Axes>"
      ]
     },
     "metadata": {},
     "output_type": "display_data"
    }
   ],
   "source": [
    "df['budget']=df['budget'].replace(0,df['budget'].mean()) #replace zero with mean()\n",
    "df['revenue']=df['revenue'].replace(0,df['revenue'].mean())\n",
    "df.describe()\n",
    "\n",
    "count_of_year=df.groupby('release_year')['id'].count().plot(kind='bar',title='No of movies in years')\n",
    "sns.set(rc={'figure.figsize':(10,5)})\n",
    "plt.xlabel('Release year',fontsize = 13)\n",
    "plt.ylabel('Number Of Movies',fontsize = 13)\n",
    "print(df['release_year'].value_counts())\n",
    "sns.set_style(\"whitegrid\")\n",
    "\n",
    "\n",
    "\n",
    "#Which year has the highest release of movies?\n",
    "\n",
    "#After Seeing the plot and the output we can conclude that year 2014 year has the highest release of movies (682) followed by year 2013 (649) and year 2015 (617).\n"
   ]
  },
  {
   "cell_type": "code",
   "execution_count": 166,
   "metadata": {},
   "outputs": [
    {
     "name": "stdout",
     "output_type": "stream",
     "text": [
      "2244\n",
      "1386\n",
      "movie with high profit Avatar : 2544505847.0\n",
      "movie with low profit The Warrior's Way : -413912431.0\n"
     ]
    },
    {
     "data": {
      "text/html": [
       "<div>\n",
       "<style scoped>\n",
       "    .dataframe tbody tr th:only-of-type {\n",
       "        vertical-align: middle;\n",
       "    }\n",
       "\n",
       "    .dataframe tbody tr th {\n",
       "        vertical-align: top;\n",
       "    }\n",
       "\n",
       "    .dataframe thead th {\n",
       "        text-align: right;\n",
       "    }\n",
       "</style>\n",
       "<table border=\"1\" class=\"dataframe\">\n",
       "  <thead>\n",
       "    <tr style=\"text-align: right;\">\n",
       "      <th></th>\n",
       "      <th>original_title</th>\n",
       "      <th>profit</th>\n",
       "      <th>director</th>\n",
       "    </tr>\n",
       "  </thead>\n",
       "  <tbody>\n",
       "    <tr>\n",
       "      <th>1386</th>\n",
       "      <td>Avatar</td>\n",
       "      <td>2.544506e+09</td>\n",
       "      <td>James Cameron</td>\n",
       "    </tr>\n",
       "    <tr>\n",
       "      <th>3</th>\n",
       "      <td>Star Wars: The Force Awakens</td>\n",
       "      <td>1.868178e+09</td>\n",
       "      <td>J.J. Abrams</td>\n",
       "    </tr>\n",
       "    <tr>\n",
       "      <th>5231</th>\n",
       "      <td>Titanic</td>\n",
       "      <td>1.645034e+09</td>\n",
       "      <td>James Cameron</td>\n",
       "    </tr>\n",
       "    <tr>\n",
       "      <th>0</th>\n",
       "      <td>Jurassic World</td>\n",
       "      <td>1.363529e+09</td>\n",
       "      <td>Colin Trevorrow</td>\n",
       "    </tr>\n",
       "    <tr>\n",
       "      <th>4</th>\n",
       "      <td>Furious 7</td>\n",
       "      <td>1.316249e+09</td>\n",
       "      <td>James Wan</td>\n",
       "    </tr>\n",
       "    <tr>\n",
       "      <th>4361</th>\n",
       "      <td>The Avengers</td>\n",
       "      <td>1.299558e+09</td>\n",
       "      <td>Joss Whedon</td>\n",
       "    </tr>\n",
       "    <tr>\n",
       "      <th>3374</th>\n",
       "      <td>Harry Potter and the Deathly Hallows: Part 2</td>\n",
       "      <td>1.202818e+09</td>\n",
       "      <td>David Yates</td>\n",
       "    </tr>\n",
       "    <tr>\n",
       "      <th>14</th>\n",
       "      <td>Avengers: Age of Ultron</td>\n",
       "      <td>1.125036e+09</td>\n",
       "      <td>Joss Whedon</td>\n",
       "    </tr>\n",
       "    <tr>\n",
       "      <th>5422</th>\n",
       "      <td>Frozen</td>\n",
       "      <td>1.124219e+09</td>\n",
       "      <td>Chris Buck|Jennifer Lee</td>\n",
       "    </tr>\n",
       "    <tr>\n",
       "      <th>8094</th>\n",
       "      <td>The Net</td>\n",
       "      <td>1.084280e+09</td>\n",
       "      <td>Irwin Winkler</td>\n",
       "    </tr>\n",
       "  </tbody>\n",
       "</table>\n",
       "</div>"
      ],
      "text/plain": [
       "                                    original_title        profit  \\\n",
       "1386                                        Avatar  2.544506e+09   \n",
       "3                     Star Wars: The Force Awakens  1.868178e+09   \n",
       "5231                                       Titanic  1.645034e+09   \n",
       "0                                   Jurassic World  1.363529e+09   \n",
       "4                                        Furious 7  1.316249e+09   \n",
       "4361                                  The Avengers  1.299558e+09   \n",
       "3374  Harry Potter and the Deathly Hallows: Part 2  1.202818e+09   \n",
       "14                         Avengers: Age of Ultron  1.125036e+09   \n",
       "5422                                        Frozen  1.124219e+09   \n",
       "8094                                       The Net  1.084280e+09   \n",
       "\n",
       "                     director  \n",
       "1386            James Cameron  \n",
       "3                 J.J. Abrams  \n",
       "5231            James Cameron  \n",
       "0             Colin Trevorrow  \n",
       "4                   James Wan  \n",
       "4361              Joss Whedon  \n",
       "3374              David Yates  \n",
       "14                Joss Whedon  \n",
       "5422  Chris Buck|Jennifer Lee  \n",
       "8094            Irwin Winkler  "
      ]
     },
     "execution_count": 166,
     "metadata": {},
     "output_type": "execute_result"
    }
   ],
   "source": [
    "\n",
    "#which movie has highest or lowest profit\n",
    "df['profit']=df['revenue']-df['budget']\n",
    "#print(df['profit'])\n",
    "lowest_profit_index=df['profit'].idxmin()\n",
    "print(lowest_profit_index)\n",
    "highest_profit_index=df['profit'].idxmax()\n",
    "print(highest_profit_index)\n",
    "high_profit_movie=df['original_title'][highest_profit_index]\n",
    "print(\"movie with high profit\",high_profit_movie,\":\",df['profit'][highest_profit_index])\n",
    "low_profit_movie=df['original_title'][lowest_profit_index]\n",
    "print(\"movie with low profit\",low_profit_movie,\":\",df['profit'][lowest_profit_index])\n",
    "\n",
    "\n",
    "#Top 10 movies with the highest profit\n",
    "df[['original_title', 'profit','director']].sort_values('profit', ascending=False).nlargest(10, 'profit')\n",
    "\n",
    "#As we can see that 'Avatar' movie Directed earn the highest profit in all, \n",
    "#making over 2.5B in profit in this dataset.And the most in loss movie in this dataset\n",
    "#is The Warrior's Way. Going in loss by more than 400M .\n"
   ]
  },
  {
   "cell_type": "code",
   "execution_count": 167,
   "metadata": {},
   "outputs": [
    {
     "name": "stdout",
     "output_type": "stream",
     "text": [
      "lowest  budget  movie Fear Clinic 1.0\n",
      "highest  budget  movie The Warrior's Way 425000000.0\n"
     ]
    }
   ],
   "source": [
    "#movie with the highest or lowest budget\n",
    "#use of function \n",
    "\n",
    "\n",
    "def find_Min_Max(x):\n",
    "    lowest_budget_index=df[x].idxmin()\n",
    "    print(\"lowest \", x ,\" movie\",df['original_title'][lowest_budget_index],df[x][lowest_budget_index])\n",
    "    highest_budget_index=df[x].idxmax()\n",
    "    print(\"highest \" ,x,\" movie\",df['original_title'][highest_budget_index],df[x][highest_budget_index])\n",
    "#call function\n",
    "find_Min_Max('budget')\n",
    "\n",
    "#Lowest budget movie is Fear clinic with budget = 1\n",
    "#and Highest budget movie is  The warrior's way with budget = 425000000"
   ]
  },
  {
   "cell_type": "code",
   "execution_count": 84,
   "metadata": {},
   "outputs": [
    {
     "name": "stdout",
     "output_type": "stream",
     "text": [
      "lowest  vote_count  movie The Unspoken 10\n",
      "highest  vote_count  movie Inception 9767\n",
      "lowest  revenue  movie Shattered Glass 2.0\n",
      "highest  revenue  movie Avatar 2781505847.0\n"
     ]
    }
   ],
   "source": [
    "#highest or lowest votes\n",
    "\n",
    "\n",
    "    #call Function\n",
    "find_Min_Max('vote_count')\n",
    "#highest or the lowest revenue \n",
    "find_Min_Max('revenue')\n",
    "\n",
    "#The highest and lowest votes are from the movie INception and The unspoken and the highest and lowest revenue from the movie Avatar and Shattered Glass."
   ]
  },
  {
   "cell_type": "markdown",
   "metadata": {},
   "source": [
    "                   "
   ]
  },
  {
   "cell_type": "code",
   "execution_count": 152,
   "metadata": {},
   "outputs": [
    {
     "name": "stdout",
     "output_type": "stream",
     "text": [
      "['Colin Trevorrow', 'George Miller', 'Robert Schwentke', 'J.J. Abrams', 'James Wan', 'Alejandro GonzÃ¡lez IÃ±Ã¡rritu', 'Alan Taylor', 'Ridley Scott', 'Kyle Balda|Pierre Coffin', 'Pete Docter']\n",
      "[45, 34, 29, 28, 23, 22, 22, 21, 20, 19]\n"
     ]
    },
    {
     "data": {
      "text/plain": [
       "Text(0.5,0,'No of MOvies')"
      ]
     },
     "execution_count": 152,
     "metadata": {},
     "output_type": "execute_result"
    },
    {
     "data": {
      "image/png": "[encoded data removed]",
      "text/plain": [
       "<Figure size 720x432 with 1 Axes>"
      ]
     },
     "metadata": {},
     "output_type": "display_data"
    }
   ],
   "source": [
    "#director with maximum movies\n",
    "cnt_movies=df.groupby('director').count()['original_title'].sort_values(ascending=False)\n",
    "cnt_movies['director']=df['director']\n",
    "#print(cnt_movies)\n",
    "data=list(map(str,(cnt_movies['director'])))\n",
    "#print(data)\n",
    "x=list(data[:10])\n",
    "print(x)\n",
    "y=list(cnt_movies[:10])\n",
    "print(y)\n",
    "ax = sns.pointplot(x=y,y=x)\n",
    "ax.set_title(\"director with maximum movies\")\n",
    "ax.set_xlabel(\"No of MOvies\")\n",
    "#colin Trevorrow directed max no of movies i.e. 45"
   ]
  },
  {
   "cell_type": "code",
   "execution_count": 168,
   "metadata": {},
   "outputs": [
    {
     "data": {
      "image/png": "[encoded data removed]",
      "text/plain": [
       "<Figure size 720x360 with 1 Axes>"
      ]
     },
     "metadata": {},
     "output_type": "display_data"
    }
   ],
   "source": [
    "#year with highest mean profit\n",
    "\n",
    "df.groupby('release_year')['profit'].mean().plot()\n",
    "plt.ylabel(\"Profit Mean\")\n",
    "plt.xlabel(\"Release Year\")\n",
    "plt.title(\"Mean Profit in a year\")\n",
    "\n",
    "#setup the figure size.\n",
    "sns.set(rc={'figure.figsize':(10,6)})\n",
    "sns.set_style(\"whitegrid\")\n",
    "#It shows that 1990 till 2003 has the hightest mean profit while the lowest profit was in the year 1960 - 1975"
   ]
  },
  {
   "cell_type": "code",
   "execution_count": 171,
   "metadata": {},
   "outputs": [
    {
     "name": "stdout",
     "output_type": "stream",
     "text": [
      "month\n",
      "1      892\n",
      "2      681\n",
      "3      813\n",
      "4      791\n",
      "5      807\n",
      "6      822\n",
      "7      790\n",
      "8      906\n",
      "9     1319\n",
      "10    1138\n",
      "11     798\n",
      "12     974\n",
      "Name: original_title, dtype: int64\n"
     ]
    },
    {
     "data": {
      "image/png": "[encoded data removed]",
      "text/plain": [
       "<Figure size 720x432 with 1 Axes>"
      ]
     },
     "metadata": {},
     "output_type": "display_data"
    }
   ],
   "source": [
    "#which month has the highest release of movies in a year\n",
    "df['release_date']=pd.to_datetime(df['release_date'])\n",
    "df['month'] = df['release_date'].dt.month\n",
    "    \n",
    "df['month'].value_counts().sort_index()\n",
    "print(df.groupby('month').count()['original_title'].sort_values(ascending=False).sort_index())\n",
    "\n",
    "df.groupby('month').count()['original_title'].sort_values(ascending=False).sort_index().plot(kind=\"bar\",title='Highest release of movies vs month',color='green')\n",
    "plt.xlabel('month')\n",
    "plt.ylabel('count of movies')\n",
    "\n",
    "sns.set_style(\"darkgrid\") \n",
    "\n",
    "#month sept has the highest release of movies. followed by  oct and december .\n",
    "\n"
   ]
  },
  {
   "cell_type": "code",
   "execution_count": 170,
   "metadata": {},
   "outputs": [
    {
     "data": {
      "image/png": "[encoded data removed]",
      "text/plain": [
       "<Figure size 576x432 with 1 Axes>"
      ]
     },
     "metadata": {},
     "output_type": "display_data"
    }
   ],
   "source": [
    "#which month has the highest revenue in a year\n",
    "month= df['release_date'].dt.month\n",
    "month_release.rename(columns = {'release_date':'release_month'},inplace=True)\n",
    "\n",
    "month_release['revenue']=df['revenue']\n",
    "\n",
    "mean=month_release.groupby('release_month').mean()\n",
    "\n",
    "mean['month']=['Jan','Feb','Mar','Apr','May','Jun','Jul','Aug','Sep','Oct','Nov','Dec']\n",
    "\n",
    "mean.plot(x='month',kind='bar',figsize = (8,6),fontsize=11)\n",
    "plt.title('Average revenue by month',fontsize = 15)\n",
    "plt.xlabel('Month',fontsize = 13)\n",
    "plt.ylabel('Average Revenue',fontsize = 13)\n",
    "sns.set_style(\"darkgrid\") \n",
    "          \n",
    "\n"
   ]
  },
  {
   "cell_type": "code",
   "execution_count": 105,
   "metadata": {},
   "outputs": [
    {
     "name": "stdout",
     "output_type": "stream",
     "text": [
      "month\n",
      "1    10731\n",
      "Name: original_title, dtype: int64\n"
     ]
    }
   ],
   "source": [
    "#month july has the highest mean revenue. which meand revenue and no of movies in a month doesnt coreleate"
   ]
  },
  {
   "cell_type": "code",
   "execution_count": 39,
   "metadata": {},
   "outputs": [
    {
     "name": "stdout",
     "output_type": "stream",
     "text": [
      "Drama              4746\n",
      "Comedy             3775\n",
      "Thriller           2902\n",
      "Action             2376\n",
      "Romance            1708\n",
      "Horror             1636\n",
      "Adventure          1465\n",
      "Crime              1353\n",
      "Science Fiction    1221\n",
      "Family             1214\n",
      "Fantasy             908\n",
      "Mystery             808\n",
      "Animation           664\n",
      "Documentary         470\n",
      "Music               399\n",
      "History             330\n",
      "War                 268\n",
      "Foreign             184\n",
      "Western             164\n",
      "TV Movie            162\n",
      "dtype: int64\n"
     ]
    },
    {
     "data": {
      "text/plain": [
       "Text(0.5,0,'Genre')"
      ]
     },
     "execution_count": 39,
     "metadata": {},
     "output_type": "execute_result"
    },
    {
     "data": {
      "image/png": "[encoded data removed]",
      "text/plain": [
       "<Figure size 720x360 with 1 Axes>"
      ]
     },
     "metadata": {},
     "output_type": "display_data"
    }
   ],
   "source": [
    "#which genre has highest release of moviee\n",
    "all_cat=df['genres'].str.cat(sep='|')\n",
    "genre=pd.Series(all_cat.split('|'))\n",
    "print(genre.value_counts(ascending=False))\n",
    "genre.value_counts(ascending=False).plot(kind='bar',title='highest release of movies  vs genre',color='red')\n",
    "plt.ylabel(\"No of movies\")\n",
    "plt.xlabel(\"Genre\")\n",
    "\n",
    "#drama genre has the highest release of movies followed by comedy and thriller."
   ]
  },
  {
   "cell_type": "code",
   "execution_count": 85,
   "metadata": {},
   "outputs": [
    {
     "name": "stdout",
     "output_type": "stream",
     "text": [
      "0    Jurassic World\n",
      "Name: original_title, dtype: object : 0    32.985763\n",
      "Name: popularity, dtype: float64 : 0    6/9/15\n",
      "Name: release_date, dtype: object\n",
      "0    1363528810\n",
      "Name: profit, dtype: int64\n"
     ]
    }
   ],
   "source": [
    "#which movie has the highest popularity\n",
    "\n",
    "flag=df.query('popularity==popularity.max()')\n",
    "print(flag['original_title'],\":\",flag['popularity'],\":\",flag['release_date'])\n",
    "print(flag['profit'])\n",
    "\n",
    "#movie Jurassic world has the highest popularity"
   ]
  },
  {
   "cell_type": "raw",
   "metadata": {},
   "source": [
    "print('hi')"
   ]
  },
  {
   "cell_type": "code",
   "execution_count": 76,
   "metadata": {},
   "outputs": [
    {
     "name": "stdout",
     "output_type": "stream",
     "text": [
      "['Chris Pratt', 'Bryce Dallas Howard', 'Irrfan Khan', \"Vincent D'Onofrio\", 'Nick Robinson', 'Tom Hardy', 'Charlize Theron', 'Hugh Keays-Byrne', 'Nicholas Hoult', 'Josh Helman']\n",
      "[14, 13, 12, 12, 12, 11, 11, 11, 11, 11]\n"
     ]
    },
    {
     "data": {
      "text/plain": [
       "Text(0,0.5,'No of movies')"
      ]
     },
     "execution_count": 76,
     "metadata": {},
     "output_type": "execute_result"
    },
    {
     "data": {
      "image/png": "[encoded data removed]",
      "text/plain": [
       "<Figure size 720x432 with 1 Axes>"
      ]
     },
     "metadata": {},
     "output_type": "display_data"
    }
   ],
   "source": [
    "#director with the highest no of movies\n",
    "cast_concat=df['cast'].str.cat(sep='|')\n",
    "cast=pd.Series(cast_concat.split('|'))\n",
    "#print(cast)\n",
    "cnt_movies=df.groupby(cast).count()['original_title'].sort_values(ascending=False)\n",
    "#print(cnt_movies)\n",
    "#cnt_cast=cast.value_counts(ascending=False)\n",
    "cnt_movies['cast']=cast\n",
    "#print(cnt_movies)\n",
    "data=list(map(str,(cnt_movies['cast'])))\n",
    "#print(data)\n",
    "x=list(data[:10])\n",
    "print(x)\n",
    "y=list(cnt_movies[:10])\n",
    "print(y)\n",
    "plt.bar(x,y)\n",
    "plt.title(\"Director with highest no of movies\")\n",
    "plt.xticks(rotation='vertical')\n",
    "plt.xlabel(\"Director name\")\n",
    "plt.ylabel(\"No of movies\")\n",
    "#Chris has the highest no of movies i.e 14"
   ]
  },
  {
   "cell_type": "code",
   "execution_count": null,
   "metadata": {},
   "outputs": [],
   "source": [
    "#Conclusions\n",
    "#1. Budget vs Revenue : Budget and revenue are corelated Means that movies with higher investments result in better revenues.\n",
    "#Limitations\n",
    "#2. Drama, Comedy, Thriller and Action are four most-made genres.\n",
    "#3. Avatar', 'Star Wars' and 'Titanic' are the most profitable movies.\n",
    "#4. Maximum Number Of Movies Release In year 2014.\n",
    "#5. May,june,november and december are most popular month for releasing movies, if you want to earn more profit.\\\n",
    "#6. Revenue is directly connected to the budget.\n",
    "\n",
    "#Limitations\n",
    "#There are limitations in the data because most of the columns have null values or zero values which makes it difficult to find any result. either we have to remove those set of data.\n",
    "#During the data cleaning process, I split the data seperated by '|' into lists for easy parsing during the exploration phase. This increases the time taken in calculating the result."
   ]
  }
 ],
 "metadata": {
  "kernelspec": {
   "display_name": "Python 3",
   "language": "python",
   "name": "python3"
  },
  "language_info": {
   "codemirror_mode": {
    "name": "ipython",
    "version": 3
   },
   "file_extension": ".py",
   "mimetype": "text/x-python",
   "name": "python",
   "nbconvert_exporter": "python",
   "pygments_lexer": "ipython3",
   "version": "3.6.5"
  }
 },
 "nbformat": 4,
 "nbformat_minor": 2
}
